{
 "cells": [
  {
   "cell_type": "code",
   "execution_count": 2,
   "metadata": {},
   "outputs": [
    {
     "name": "stdout",
     "output_type": "stream",
     "text": [
      "{'red': 13, 'blue': 19, 'green': 2, 'gid': 1}\n"
     ]
    },
    {
     "data": {
      "text/plain": [
       "{'red': 13, 'blue': 19, 'green': 2}"
      ]
     },
     "execution_count": 2,
     "metadata": {},
     "output_type": "execute_result"
    }
   ],
   "source": [
    "lines = open(\"two_input\").read().splitlines()\n",
    "def info(l):\n",
    "    uid, details = l.split(\": \")\n",
    "    gid= int(uid.split()[1])\n",
    "    rounds= details.split(\"; \")\n",
    "    g=game_max(rounds)\n",
    "    g[\"gid\"]=gid\n",
    "    return g\n",
    "\n",
    "\n",
    "\n",
    "def round_count(rund):\n",
    "    cs={\"red\":0, \"green\":0,\"blue\":0}\n",
    "    for r in rund.split(\", \"):\n",
    "        count, label = r.split(\" \")\n",
    "        cs[label]= int(count)\n",
    "    return cs\n",
    "\n",
    "def of_keys(k,l):\n",
    "    return [i[k] for i in l]\n",
    "\n",
    "\n",
    "def game_max(g):\n",
    "    keys = [\"red\",\"blue\",\"green\"]\n",
    "    m = {}\n",
    "    rounds = [round_count(r) for r in g]\n",
    "    for k in keys:\n",
    "        m[k] = max(of_keys(k, rounds))\n",
    "    return m\n",
    "print(info(lines[0]))\n",
    "\n",
    "\n",
    "\n",
    "game_max(['19 blue, 12 red', '19 blue, 2 green, 1 red', '13 red, 11 blue'])\n"
   ]
  }
 ],
 "metadata": {
  "kernelspec": {
   "display_name": "Python 3",
   "language": "python",
   "name": "python3"
  },
  "language_info": {
   "codemirror_mode": {
    "name": "ipython",
    "version": 3
   },
   "file_extension": ".py",
   "mimetype": "text/x-python",
   "name": "python",
   "nbconvert_exporter": "python",
   "pygments_lexer": "ipython3",
   "version": "3.10.13"
  }
 },
 "nbformat": 4,
 "nbformat_minor": 2
}
