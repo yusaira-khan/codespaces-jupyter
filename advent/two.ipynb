{
 "cells": [
  {
   "cell_type": "code",
   "execution_count": 9,
   "metadata": {},
   "outputs": [
    {
     "name": "stdout",
     "output_type": "stream",
     "text": [
      "['19 blue, 12 red', '19 blue, 2 green, 1 red', '13 red, 11 blue']\n",
      "['19 blue', '12 red']\n"
     ]
    }
   ],
   "source": [
    "lines = open(\"two_input\").read().splitlines()\n",
    "def info(l):\n",
    "    uid, details = l.split(\": \")\n",
    "    gid= uid.split()[1]\n",
    "    rounds= details.split(\"; \")\n",
    "    print(rounds)\n",
    "info(lines[0])\n",
    "\n",
    "def game_max(rounds):\n",
    "    pass\n",
    "\n",
    "def round_count(round):\n",
    "    print(round.split(\", \"))\n",
    "\n",
    "round_count((['19 blue, 12 red', '19 blue, 2 green, 1 red', '13 red, 11 blue'][0]))\n"
   ]
  }
 ],
 "metadata": {
  "kernelspec": {
   "display_name": "Python 3",
   "language": "python",
   "name": "python3"
  },
  "language_info": {
   "codemirror_mode": {
    "name": "ipython",
    "version": 3
   },
   "file_extension": ".py",
   "mimetype": "text/x-python",
   "name": "python",
   "nbconvert_exporter": "python",
   "pygments_lexer": "ipython3",
   "version": "3.10.13"
  }
 },
 "nbformat": 4,
 "nbformat_minor": 2
}
